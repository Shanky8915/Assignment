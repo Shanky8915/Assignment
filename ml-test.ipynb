{
 "cells": [
  {
   "cell_type": "code",
   "execution_count": 1,
   "id": "fb6d88f8",
   "metadata": {
    "_cell_guid": "b1076dfc-b9ad-4769-8c92-a6c4dae69d19",
    "_uuid": "8f2839f25d086af736a60e9eeb907d3b93b6e0e5",
    "execution": {
     "iopub.execute_input": "2022-06-08T02:17:28.622862Z",
     "iopub.status.busy": "2022-06-08T02:17:28.622417Z",
     "iopub.status.idle": "2022-06-08T02:17:28.638933Z",
     "shell.execute_reply": "2022-06-08T02:17:28.638171Z"
    },
    "papermill": {
     "duration": 0.030057,
     "end_time": "2022-06-08T02:17:28.641457",
     "exception": false,
     "start_time": "2022-06-08T02:17:28.611400",
     "status": "completed"
    },
    "tags": []
   },
   "outputs": [
    {
     "name": "stdout",
     "output_type": "stream",
     "text": [
      "/kaggle/input/phishing-data/Phishing Data - Phishing Data.csv\n"
     ]
    }
   ],
   "source": [
    "# This Python 3 environment comes with many helpful analytics libraries installed\n",
    "# It is defined by the kaggle/python Docker image: https://github.com/kaggle/docker-python\n",
    "# For example, here's several helpful packages to load\n",
    "\n",
    "import numpy as np # linear algebra\n",
    "import pandas as pd # data processing, CSV file I/O (e.g. pd.read_csv)\n",
    "\n",
    "# Input data files are available in the read-only \"../input/\" directory\n",
    "# For example, running this (by clicking run or pressing Shift+Enter) will list all files under the input directory\n",
    "\n",
    "import os\n",
    "for dirname, _, filenames in os.walk('/kaggle/input'):\n",
    "    for filename in filenames:\n",
    "        print(os.path.join(dirname, filename))\n",
    "\n",
    "# You can write up to 20GB to the current directory (/kaggle/working/) that gets preserved as output when you create a version using \"Save & Run All\" \n",
    "# You can also write temporary files to /kaggle/temp/, but they won't be saved outside of the current session"
   ]
  },
  {
   "cell_type": "code",
   "execution_count": 2,
   "id": "692db9aa",
   "metadata": {
    "execution": {
     "iopub.execute_input": "2022-06-08T02:17:28.655888Z",
     "iopub.status.busy": "2022-06-08T02:17:28.655239Z",
     "iopub.status.idle": "2022-06-08T02:17:28.702588Z",
     "shell.execute_reply": "2022-06-08T02:17:28.701609Z"
    },
    "papermill": {
     "duration": 0.057909,
     "end_time": "2022-06-08T02:17:28.705288",
     "exception": false,
     "start_time": "2022-06-08T02:17:28.647379",
     "status": "completed"
    },
    "tags": []
   },
   "outputs": [
    {
     "data": {
      "text/html": [
       "<div>\n",
       "<style scoped>\n",
       "    .dataframe tbody tr th:only-of-type {\n",
       "        vertical-align: middle;\n",
       "    }\n",
       "\n",
       "    .dataframe tbody tr th {\n",
       "        vertical-align: top;\n",
       "    }\n",
       "\n",
       "    .dataframe thead th {\n",
       "        text-align: right;\n",
       "    }\n",
       "</style>\n",
       "<table border=\"1\" class=\"dataframe\">\n",
       "  <thead>\n",
       "    <tr style=\"text-align: right;\">\n",
       "      <th></th>\n",
       "      <th>having_IP_Address</th>\n",
       "      <th>URL_Length</th>\n",
       "      <th>Shortining_Service</th>\n",
       "      <th>having_At_Symbol</th>\n",
       "      <th>double_slash_redirecting</th>\n",
       "      <th>Prefix_Suffix</th>\n",
       "      <th>having_Sub_Domain</th>\n",
       "      <th>SSLfinal_State</th>\n",
       "      <th>Domain_registeration_length</th>\n",
       "      <th>Favicon</th>\n",
       "      <th>...</th>\n",
       "      <th>popUpWidnow</th>\n",
       "      <th>Iframe</th>\n",
       "      <th>age_of_domain</th>\n",
       "      <th>DNSRecord</th>\n",
       "      <th>web_traffic</th>\n",
       "      <th>Page_Rank</th>\n",
       "      <th>Google_Index</th>\n",
       "      <th>Links_pointing_to_page</th>\n",
       "      <th>Statistical_report</th>\n",
       "      <th>Result</th>\n",
       "    </tr>\n",
       "  </thead>\n",
       "  <tbody>\n",
       "    <tr>\n",
       "      <th>0</th>\n",
       "      <td>1</td>\n",
       "      <td>1</td>\n",
       "      <td>0</td>\n",
       "      <td>0</td>\n",
       "      <td>1</td>\n",
       "      <td>-1</td>\n",
       "      <td>-1</td>\n",
       "      <td>-1</td>\n",
       "      <td>0</td>\n",
       "      <td>0</td>\n",
       "      <td>...</td>\n",
       "      <td>0</td>\n",
       "      <td>0</td>\n",
       "      <td>-1</td>\n",
       "      <td>1</td>\n",
       "      <td>-1</td>\n",
       "      <td>-1</td>\n",
       "      <td>0</td>\n",
       "      <td>1</td>\n",
       "      <td>1</td>\n",
       "      <td>1</td>\n",
       "    </tr>\n",
       "    <tr>\n",
       "      <th>1</th>\n",
       "      <td>0</td>\n",
       "      <td>1</td>\n",
       "      <td>0</td>\n",
       "      <td>0</td>\n",
       "      <td>0</td>\n",
       "      <td>-1</td>\n",
       "      <td>0</td>\n",
       "      <td>1</td>\n",
       "      <td>0</td>\n",
       "      <td>0</td>\n",
       "      <td>...</td>\n",
       "      <td>0</td>\n",
       "      <td>0</td>\n",
       "      <td>-1</td>\n",
       "      <td>1</td>\n",
       "      <td>0</td>\n",
       "      <td>-1</td>\n",
       "      <td>0</td>\n",
       "      <td>1</td>\n",
       "      <td>0</td>\n",
       "      <td>1</td>\n",
       "    </tr>\n",
       "    <tr>\n",
       "      <th>2</th>\n",
       "      <td>0</td>\n",
       "      <td>0</td>\n",
       "      <td>0</td>\n",
       "      <td>0</td>\n",
       "      <td>0</td>\n",
       "      <td>-1</td>\n",
       "      <td>-1</td>\n",
       "      <td>-1</td>\n",
       "      <td>0</td>\n",
       "      <td>0</td>\n",
       "      <td>...</td>\n",
       "      <td>0</td>\n",
       "      <td>0</td>\n",
       "      <td>0</td>\n",
       "      <td>1</td>\n",
       "      <td>1</td>\n",
       "      <td>-1</td>\n",
       "      <td>0</td>\n",
       "      <td>0</td>\n",
       "      <td>1</td>\n",
       "      <td>1</td>\n",
       "    </tr>\n",
       "    <tr>\n",
       "      <th>3</th>\n",
       "      <td>0</td>\n",
       "      <td>0</td>\n",
       "      <td>0</td>\n",
       "      <td>0</td>\n",
       "      <td>0</td>\n",
       "      <td>-1</td>\n",
       "      <td>-1</td>\n",
       "      <td>-1</td>\n",
       "      <td>1</td>\n",
       "      <td>0</td>\n",
       "      <td>...</td>\n",
       "      <td>0</td>\n",
       "      <td>0</td>\n",
       "      <td>-1</td>\n",
       "      <td>1</td>\n",
       "      <td>1</td>\n",
       "      <td>-1</td>\n",
       "      <td>0</td>\n",
       "      <td>-1</td>\n",
       "      <td>0</td>\n",
       "      <td>1</td>\n",
       "    </tr>\n",
       "    <tr>\n",
       "      <th>4</th>\n",
       "      <td>0</td>\n",
       "      <td>0</td>\n",
       "      <td>1</td>\n",
       "      <td>0</td>\n",
       "      <td>0</td>\n",
       "      <td>-1</td>\n",
       "      <td>1</td>\n",
       "      <td>1</td>\n",
       "      <td>0</td>\n",
       "      <td>0</td>\n",
       "      <td>...</td>\n",
       "      <td>1</td>\n",
       "      <td>0</td>\n",
       "      <td>-1</td>\n",
       "      <td>1</td>\n",
       "      <td>0</td>\n",
       "      <td>-1</td>\n",
       "      <td>0</td>\n",
       "      <td>1</td>\n",
       "      <td>0</td>\n",
       "      <td>0</td>\n",
       "    </tr>\n",
       "  </tbody>\n",
       "</table>\n",
       "<p>5 rows × 31 columns</p>\n",
       "</div>"
      ],
      "text/plain": [
       "   having_IP_Address  URL_Length  Shortining_Service  having_At_Symbol  \\\n",
       "0                  1           1                   0                 0   \n",
       "1                  0           1                   0                 0   \n",
       "2                  0           0                   0                 0   \n",
       "3                  0           0                   0                 0   \n",
       "4                  0           0                   1                 0   \n",
       "\n",
       "   double_slash_redirecting  Prefix_Suffix  having_Sub_Domain  SSLfinal_State  \\\n",
       "0                         1             -1                 -1              -1   \n",
       "1                         0             -1                  0               1   \n",
       "2                         0             -1                 -1              -1   \n",
       "3                         0             -1                 -1              -1   \n",
       "4                         0             -1                  1               1   \n",
       "\n",
       "   Domain_registeration_length  Favicon  ...  popUpWidnow  Iframe  \\\n",
       "0                            0        0  ...            0       0   \n",
       "1                            0        0  ...            0       0   \n",
       "2                            0        0  ...            0       0   \n",
       "3                            1        0  ...            0       0   \n",
       "4                            0        0  ...            1       0   \n",
       "\n",
       "   age_of_domain  DNSRecord  web_traffic  Page_Rank  Google_Index  \\\n",
       "0             -1          1           -1         -1             0   \n",
       "1             -1          1            0         -1             0   \n",
       "2              0          1            1         -1             0   \n",
       "3             -1          1            1         -1             0   \n",
       "4             -1          1            0         -1             0   \n",
       "\n",
       "   Links_pointing_to_page  Statistical_report  Result  \n",
       "0                       1                   1       1  \n",
       "1                       1                   0       1  \n",
       "2                       0                   1       1  \n",
       "3                      -1                   0       1  \n",
       "4                       1                   0       0  \n",
       "\n",
       "[5 rows x 31 columns]"
      ]
     },
     "execution_count": 2,
     "metadata": {},
     "output_type": "execute_result"
    }
   ],
   "source": [
    "# Loading data\n",
    "data = pd.read_csv('../input/phishing-data/Phishing Data - Phishing Data.csv')\n",
    "data.head()"
   ]
  },
  {
   "cell_type": "code",
   "execution_count": 3,
   "id": "fae051a5",
   "metadata": {
    "execution": {
     "iopub.execute_input": "2022-06-08T02:17:28.719489Z",
     "iopub.status.busy": "2022-06-08T02:17:28.718965Z",
     "iopub.status.idle": "2022-06-08T02:17:28.728865Z",
     "shell.execute_reply": "2022-06-08T02:17:28.727744Z"
    },
    "papermill": {
     "duration": 0.019385,
     "end_time": "2022-06-08T02:17:28.730978",
     "exception": false,
     "start_time": "2022-06-08T02:17:28.711593",
     "status": "completed"
    },
    "tags": []
   },
   "outputs": [
    {
     "data": {
      "text/plain": [
       "having_IP_Address              0\n",
       "URL_Length                     0\n",
       "Shortining_Service             0\n",
       "having_At_Symbol               0\n",
       "double_slash_redirecting       0\n",
       "Prefix_Suffix                  0\n",
       "having_Sub_Domain              0\n",
       "SSLfinal_State                 0\n",
       "Domain_registeration_length    0\n",
       "Favicon                        0\n",
       "port                           0\n",
       "HTTPS_token                    0\n",
       "Request_URL                    0\n",
       "URL_of_Anchor                  0\n",
       "Links_in_tags                  0\n",
       "SFH                            0\n",
       "Submitting_to_email            0\n",
       "Abnormal_URL                   0\n",
       "Redirect                       0\n",
       "on_mouseover                   0\n",
       "RightClick                     0\n",
       "popUpWidnow                    0\n",
       "Iframe                         0\n",
       "age_of_domain                  0\n",
       "DNSRecord                      0\n",
       "web_traffic                    0\n",
       "Page_Rank                      0\n",
       "Google_Index                   0\n",
       "Links_pointing_to_page         0\n",
       "Statistical_report             0\n",
       "Result                         0\n",
       "dtype: int64"
      ]
     },
     "execution_count": 3,
     "metadata": {},
     "output_type": "execute_result"
    }
   ],
   "source": [
    "#Checking if there are null or missing values\n",
    "data.isnull().sum()"
   ]
  },
  {
   "cell_type": "code",
   "execution_count": 4,
   "id": "76fce013",
   "metadata": {
    "execution": {
     "iopub.execute_input": "2022-06-08T02:17:28.746151Z",
     "iopub.status.busy": "2022-06-08T02:17:28.745340Z",
     "iopub.status.idle": "2022-06-08T02:17:28.768893Z",
     "shell.execute_reply": "2022-06-08T02:17:28.768192Z"
    },
    "papermill": {
     "duration": 0.033494,
     "end_time": "2022-06-08T02:17:28.770932",
     "exception": false,
     "start_time": "2022-06-08T02:17:28.737438",
     "status": "completed"
    },
    "tags": []
   },
   "outputs": [
    {
     "data": {
      "text/html": [
       "<div>\n",
       "<style scoped>\n",
       "    .dataframe tbody tr th:only-of-type {\n",
       "        vertical-align: middle;\n",
       "    }\n",
       "\n",
       "    .dataframe tbody tr th {\n",
       "        vertical-align: top;\n",
       "    }\n",
       "\n",
       "    .dataframe thead th {\n",
       "        text-align: right;\n",
       "    }\n",
       "</style>\n",
       "<table border=\"1\" class=\"dataframe\">\n",
       "  <thead>\n",
       "    <tr style=\"text-align: right;\">\n",
       "      <th></th>\n",
       "      <th>having_IP_Address</th>\n",
       "      <th>URL_Length</th>\n",
       "      <th>Shortining_Service</th>\n",
       "      <th>having_At_Symbol</th>\n",
       "      <th>double_slash_redirecting</th>\n",
       "      <th>Prefix_Suffix</th>\n",
       "      <th>having_Sub_Domain</th>\n",
       "      <th>SSLfinal_State</th>\n",
       "      <th>Domain_registeration_length</th>\n",
       "      <th>Favicon</th>\n",
       "      <th>...</th>\n",
       "      <th>popUpWidnow</th>\n",
       "      <th>Iframe</th>\n",
       "      <th>age_of_domain</th>\n",
       "      <th>DNSRecord</th>\n",
       "      <th>web_traffic</th>\n",
       "      <th>Page_Rank</th>\n",
       "      <th>Google_Index</th>\n",
       "      <th>Links_pointing_to_page</th>\n",
       "      <th>Statistical_report</th>\n",
       "      <th>Result</th>\n",
       "    </tr>\n",
       "  </thead>\n",
       "  <tbody>\n",
       "    <tr>\n",
       "      <th>0</th>\n",
       "      <td>0</td>\n",
       "      <td>-1</td>\n",
       "      <td>0</td>\n",
       "      <td>0</td>\n",
       "      <td>0</td>\n",
       "      <td>0</td>\n",
       "      <td>1</td>\n",
       "      <td>1</td>\n",
       "      <td>-1</td>\n",
       "      <td>0</td>\n",
       "      <td>...</td>\n",
       "      <td>0</td>\n",
       "      <td>0</td>\n",
       "      <td>1</td>\n",
       "      <td>0</td>\n",
       "      <td>-1</td>\n",
       "      <td>1</td>\n",
       "      <td>0</td>\n",
       "      <td>-1</td>\n",
       "      <td>0</td>\n",
       "      <td>0</td>\n",
       "    </tr>\n",
       "    <tr>\n",
       "      <th>1</th>\n",
       "      <td>0</td>\n",
       "      <td>-1</td>\n",
       "      <td>0</td>\n",
       "      <td>1</td>\n",
       "      <td>0</td>\n",
       "      <td>-1</td>\n",
       "      <td>0</td>\n",
       "      <td>-1</td>\n",
       "      <td>0</td>\n",
       "      <td>0</td>\n",
       "      <td>...</td>\n",
       "      <td>0</td>\n",
       "      <td>0</td>\n",
       "      <td>-1</td>\n",
       "      <td>0</td>\n",
       "      <td>1</td>\n",
       "      <td>-1</td>\n",
       "      <td>0</td>\n",
       "      <td>1</td>\n",
       "      <td>1</td>\n",
       "      <td>1</td>\n",
       "    </tr>\n",
       "    <tr>\n",
       "      <th>2</th>\n",
       "      <td>1</td>\n",
       "      <td>-1</td>\n",
       "      <td>1</td>\n",
       "      <td>0</td>\n",
       "      <td>1</td>\n",
       "      <td>0</td>\n",
       "      <td>-1</td>\n",
       "      <td>1</td>\n",
       "      <td>-1</td>\n",
       "      <td>0</td>\n",
       "      <td>...</td>\n",
       "      <td>0</td>\n",
       "      <td>0</td>\n",
       "      <td>1</td>\n",
       "      <td>1</td>\n",
       "      <td>1</td>\n",
       "      <td>1</td>\n",
       "      <td>0</td>\n",
       "      <td>1</td>\n",
       "      <td>0</td>\n",
       "      <td>0</td>\n",
       "    </tr>\n",
       "    <tr>\n",
       "      <th>3</th>\n",
       "      <td>0</td>\n",
       "      <td>-1</td>\n",
       "      <td>0</td>\n",
       "      <td>1</td>\n",
       "      <td>0</td>\n",
       "      <td>0</td>\n",
       "      <td>1</td>\n",
       "      <td>1</td>\n",
       "      <td>0</td>\n",
       "      <td>0</td>\n",
       "      <td>...</td>\n",
       "      <td>0</td>\n",
       "      <td>0</td>\n",
       "      <td>1</td>\n",
       "      <td>0</td>\n",
       "      <td>1</td>\n",
       "      <td>1</td>\n",
       "      <td>0</td>\n",
       "      <td>0</td>\n",
       "      <td>0</td>\n",
       "      <td>0</td>\n",
       "    </tr>\n",
       "    <tr>\n",
       "      <th>4</th>\n",
       "      <td>0</td>\n",
       "      <td>1</td>\n",
       "      <td>0</td>\n",
       "      <td>0</td>\n",
       "      <td>0</td>\n",
       "      <td>-1</td>\n",
       "      <td>0</td>\n",
       "      <td>0</td>\n",
       "      <td>-1</td>\n",
       "      <td>0</td>\n",
       "      <td>...</td>\n",
       "      <td>0</td>\n",
       "      <td>0</td>\n",
       "      <td>1</td>\n",
       "      <td>1</td>\n",
       "      <td>0</td>\n",
       "      <td>-1</td>\n",
       "      <td>0</td>\n",
       "      <td>0</td>\n",
       "      <td>0</td>\n",
       "      <td>1</td>\n",
       "    </tr>\n",
       "  </tbody>\n",
       "</table>\n",
       "<p>5 rows × 31 columns</p>\n",
       "</div>"
      ],
      "text/plain": [
       "   having_IP_Address  URL_Length  Shortining_Service  having_At_Symbol  \\\n",
       "0                  0          -1                   0                 0   \n",
       "1                  0          -1                   0                 1   \n",
       "2                  1          -1                   1                 0   \n",
       "3                  0          -1                   0                 1   \n",
       "4                  0           1                   0                 0   \n",
       "\n",
       "   double_slash_redirecting  Prefix_Suffix  having_Sub_Domain  SSLfinal_State  \\\n",
       "0                         0              0                  1               1   \n",
       "1                         0             -1                  0              -1   \n",
       "2                         1              0                 -1               1   \n",
       "3                         0              0                  1               1   \n",
       "4                         0             -1                  0               0   \n",
       "\n",
       "   Domain_registeration_length  Favicon  ...  popUpWidnow  Iframe  \\\n",
       "0                           -1        0  ...            0       0   \n",
       "1                            0        0  ...            0       0   \n",
       "2                           -1        0  ...            0       0   \n",
       "3                            0        0  ...            0       0   \n",
       "4                           -1        0  ...            0       0   \n",
       "\n",
       "   age_of_domain  DNSRecord  web_traffic  Page_Rank  Google_Index  \\\n",
       "0              1          0           -1          1             0   \n",
       "1             -1          0            1         -1             0   \n",
       "2              1          1            1          1             0   \n",
       "3              1          0            1          1             0   \n",
       "4              1          1            0         -1             0   \n",
       "\n",
       "   Links_pointing_to_page  Statistical_report  Result  \n",
       "0                      -1                   0       0  \n",
       "1                       1                   1       1  \n",
       "2                       1                   0       0  \n",
       "3                       0                   0       0  \n",
       "4                       0                   0       1  \n",
       "\n",
       "[5 rows x 31 columns]"
      ]
     },
     "execution_count": 4,
     "metadata": {},
     "output_type": "execute_result"
    }
   ],
   "source": [
    "#Shuffle the rows for train and test split to be equallu distributed\n",
    "data = data.sample(frac=1).reset_index(drop=True)\n",
    "data.head()"
   ]
  },
  {
   "cell_type": "code",
   "execution_count": 5,
   "id": "0077665a",
   "metadata": {
    "execution": {
     "iopub.execute_input": "2022-06-08T02:17:28.787096Z",
     "iopub.status.busy": "2022-06-08T02:17:28.786655Z",
     "iopub.status.idle": "2022-06-08T02:17:28.797669Z",
     "shell.execute_reply": "2022-06-08T02:17:28.796851Z"
    },
    "papermill": {
     "duration": 0.02133,
     "end_time": "2022-06-08T02:17:28.799543",
     "exception": false,
     "start_time": "2022-06-08T02:17:28.778213",
     "status": "completed"
    },
    "tags": []
   },
   "outputs": [],
   "source": [
    "#Seperating features and target columns\n",
    "y = data['Result']\n",
    "X = data.drop('Result',axis=1)"
   ]
  },
  {
   "cell_type": "code",
   "execution_count": 6,
   "id": "59d53126",
   "metadata": {
    "execution": {
     "iopub.execute_input": "2022-06-08T02:17:28.815125Z",
     "iopub.status.busy": "2022-06-08T02:17:28.814292Z",
     "iopub.status.idle": "2022-06-08T02:17:30.102322Z",
     "shell.execute_reply": "2022-06-08T02:17:30.101358Z"
    },
    "papermill": {
     "duration": 1.298498,
     "end_time": "2022-06-08T02:17:30.104806",
     "exception": false,
     "start_time": "2022-06-08T02:17:28.806308",
     "status": "completed"
    },
    "tags": []
   },
   "outputs": [
    {
     "data": {
      "text/plain": [
       "((1964, 30), (492, 30))"
      ]
     },
     "execution_count": 6,
     "metadata": {},
     "output_type": "execute_result"
    }
   ],
   "source": [
    "#Splitting data into train and test sets\n",
    "from sklearn.model_selection import train_test_split\n",
    "\n",
    "X_train, X_test, y_train, y_test = train_test_split(X, y,test_size = 0.2, random_state = 42)\n",
    "X_train.shape, X_test.shape"
   ]
  },
  {
   "cell_type": "code",
   "execution_count": 7,
   "id": "c48b94ec",
   "metadata": {
    "execution": {
     "iopub.execute_input": "2022-06-08T02:17:30.120562Z",
     "iopub.status.busy": "2022-06-08T02:17:30.120140Z",
     "iopub.status.idle": "2022-06-08T02:17:30.124744Z",
     "shell.execute_reply": "2022-06-08T02:17:30.124026Z"
    },
    "papermill": {
     "duration": 0.01489,
     "end_time": "2022-06-08T02:17:30.126678",
     "exception": false,
     "start_time": "2022-06-08T02:17:30.111788",
     "status": "completed"
    },
    "tags": []
   },
   "outputs": [],
   "source": [
    "from sklearn.metrics import accuracy_score"
   ]
  },
  {
   "cell_type": "markdown",
   "id": "883007f0",
   "metadata": {
    "papermill": {
     "duration": 0.006559,
     "end_time": "2022-06-08T02:17:30.140245",
     "exception": false,
     "start_time": "2022-06-08T02:17:30.133686",
     "status": "completed"
    },
    "tags": []
   },
   "source": [
    "# Decision Tree Classifier"
   ]
  },
  {
   "cell_type": "code",
   "execution_count": 8,
   "id": "b2bfaced",
   "metadata": {
    "execution": {
     "iopub.execute_input": "2022-06-08T02:17:30.155930Z",
     "iopub.status.busy": "2022-06-08T02:17:30.154998Z",
     "iopub.status.idle": "2022-06-08T02:17:30.336740Z",
     "shell.execute_reply": "2022-06-08T02:17:30.335539Z"
    },
    "papermill": {
     "duration": 0.19208,
     "end_time": "2022-06-08T02:17:30.339133",
     "exception": false,
     "start_time": "2022-06-08T02:17:30.147053",
     "status": "completed"
    },
    "tags": []
   },
   "outputs": [
    {
     "data": {
      "text/plain": [
       "DecisionTreeClassifier(max_depth=5)"
      ]
     },
     "execution_count": 8,
     "metadata": {},
     "output_type": "execute_result"
    }
   ],
   "source": [
    "# Decision Tree Model\n",
    "from sklearn.tree import DecisionTreeClassifier\n",
    "tree = DecisionTreeClassifier(max_depth = 5) \n",
    "tree.fit(X_train, y_train)"
   ]
  },
  {
   "cell_type": "code",
   "execution_count": 9,
   "id": "7225cbc5",
   "metadata": {
    "execution": {
     "iopub.execute_input": "2022-06-08T02:17:30.355409Z",
     "iopub.status.busy": "2022-06-08T02:17:30.354704Z",
     "iopub.status.idle": "2022-06-08T02:17:30.364001Z",
     "shell.execute_reply": "2022-06-08T02:17:30.363109Z"
    },
    "papermill": {
     "duration": 0.019986,
     "end_time": "2022-06-08T02:17:30.366329",
     "exception": false,
     "start_time": "2022-06-08T02:17:30.346343",
     "status": "completed"
    },
    "tags": []
   },
   "outputs": [],
   "source": [
    "# predict the target value\n",
    "y_test_tree = tree.predict(X_test)\n",
    "y_train_tree = tree.predict(X_train)"
   ]
  },
  {
   "cell_type": "code",
   "execution_count": 10,
   "id": "ccf21b44",
   "metadata": {
    "execution": {
     "iopub.execute_input": "2022-06-08T02:17:30.382569Z",
     "iopub.status.busy": "2022-06-08T02:17:30.381639Z",
     "iopub.status.idle": "2022-06-08T02:17:30.389701Z",
     "shell.execute_reply": "2022-06-08T02:17:30.388067Z"
    },
    "papermill": {
     "duration": 0.018679,
     "end_time": "2022-06-08T02:17:30.392189",
     "exception": false,
     "start_time": "2022-06-08T02:17:30.373510",
     "status": "completed"
    },
    "tags": []
   },
   "outputs": [
    {
     "name": "stdout",
     "output_type": "stream",
     "text": [
      "Decision Tree: Accuracy on training Data: 0.948\n",
      "Decision Tree: Accuracy on test Data: 0.947\n"
     ]
    }
   ],
   "source": [
    "# Accuracy of the model\n",
    "acc_train_tree = accuracy_score(y_train,y_train_tree)\n",
    "acc_test_tree = accuracy_score(y_test,y_test_tree)\n",
    "\n",
    "print(\"Decision Tree: Accuracy on training Data: {:.3f}\".format(acc_train_tree))\n",
    "print(\"Decision Tree: Accuracy on test Data: {:.3f}\".format(acc_test_tree))"
   ]
  },
  {
   "cell_type": "markdown",
   "id": "9faf2ffa",
   "metadata": {
    "papermill": {
     "duration": 0.006668,
     "end_time": "2022-06-08T02:17:30.405922",
     "exception": false,
     "start_time": "2022-06-08T02:17:30.399254",
     "status": "completed"
    },
    "tags": []
   },
   "source": [
    "# Random Forest Classifier"
   ]
  },
  {
   "cell_type": "code",
   "execution_count": 11,
   "id": "5f2c086e",
   "metadata": {
    "execution": {
     "iopub.execute_input": "2022-06-08T02:17:30.421738Z",
     "iopub.status.busy": "2022-06-08T02:17:30.421126Z",
     "iopub.status.idle": "2022-06-08T02:17:30.728226Z",
     "shell.execute_reply": "2022-06-08T02:17:30.727231Z"
    },
    "papermill": {
     "duration": 0.317455,
     "end_time": "2022-06-08T02:17:30.730368",
     "exception": false,
     "start_time": "2022-06-08T02:17:30.412913",
     "status": "completed"
    },
    "tags": []
   },
   "outputs": [
    {
     "data": {
      "text/plain": [
       "RandomForestClassifier(max_depth=5)"
      ]
     },
     "execution_count": 11,
     "metadata": {},
     "output_type": "execute_result"
    }
   ],
   "source": [
    "# Random Forest model\n",
    "from sklearn.ensemble import RandomForestClassifier\n",
    "forest = RandomForestClassifier(max_depth=5) \n",
    "forest.fit(X_train, y_train)"
   ]
  },
  {
   "cell_type": "code",
   "execution_count": 12,
   "id": "0d9a30ce",
   "metadata": {
    "execution": {
     "iopub.execute_input": "2022-06-08T02:17:30.746573Z",
     "iopub.status.busy": "2022-06-08T02:17:30.746175Z",
     "iopub.status.idle": "2022-06-08T02:17:30.805594Z",
     "shell.execute_reply": "2022-06-08T02:17:30.804560Z"
    },
    "papermill": {
     "duration": 0.070454,
     "end_time": "2022-06-08T02:17:30.808111",
     "exception": false,
     "start_time": "2022-06-08T02:17:30.737657",
     "status": "completed"
    },
    "tags": []
   },
   "outputs": [],
   "source": [
    "#predict the target value\n",
    "y_test_forest = forest.predict(X_test)\n",
    "y_train_forest = forest.predict(X_train)"
   ]
  },
  {
   "cell_type": "code",
   "execution_count": 13,
   "id": "7c74ba95",
   "metadata": {
    "execution": {
     "iopub.execute_input": "2022-06-08T02:17:30.824284Z",
     "iopub.status.busy": "2022-06-08T02:17:30.823709Z",
     "iopub.status.idle": "2022-06-08T02:17:30.831490Z",
     "shell.execute_reply": "2022-06-08T02:17:30.830181Z"
    },
    "papermill": {
     "duration": 0.01841,
     "end_time": "2022-06-08T02:17:30.833574",
     "exception": false,
     "start_time": "2022-06-08T02:17:30.815164",
     "status": "completed"
    },
    "tags": []
   },
   "outputs": [
    {
     "name": "stdout",
     "output_type": "stream",
     "text": [
      "Random forest: Accuracy on training Data: 0.950\n",
      "Random forest: Accuracy on test Data: 0.941\n"
     ]
    }
   ],
   "source": [
    "# Accuracy of the model\n",
    "acc_train_random_forest = accuracy_score(y_train,y_train_forest)\n",
    "acc_test_random_forest = accuracy_score(y_test,y_test_forest)\n",
    "\n",
    "print(\"Random forest: Accuracy on training Data: {:.3f}\".format(acc_train_random_forest))\n",
    "print(\"Random forest: Accuracy on test Data: {:.3f}\".format(acc_test_random_forest))"
   ]
  },
  {
   "cell_type": "markdown",
   "id": "9ebaf4ee",
   "metadata": {
    "papermill": {
     "duration": 0.006804,
     "end_time": "2022-06-08T02:17:30.847593",
     "exception": false,
     "start_time": "2022-06-08T02:17:30.840789",
     "status": "completed"
    },
    "tags": []
   },
   "source": [
    "# Support Vector Machines"
   ]
  },
  {
   "cell_type": "code",
   "execution_count": 14,
   "id": "6105fd19",
   "metadata": {
    "execution": {
     "iopub.execute_input": "2022-06-08T02:17:30.863961Z",
     "iopub.status.busy": "2022-06-08T02:17:30.863204Z",
     "iopub.status.idle": "2022-06-08T02:17:30.924354Z",
     "shell.execute_reply": "2022-06-08T02:17:30.923207Z"
    },
    "papermill": {
     "duration": 0.071916,
     "end_time": "2022-06-08T02:17:30.926657",
     "exception": false,
     "start_time": "2022-06-08T02:17:30.854741",
     "status": "completed"
    },
    "tags": []
   },
   "outputs": [
    {
     "data": {
      "text/plain": [
       "SVC(kernel='linear', random_state=42)"
      ]
     },
     "execution_count": 14,
     "metadata": {},
     "output_type": "execute_result"
    }
   ],
   "source": [
    "#Support vector machine model\n",
    "from sklearn.svm import SVC\n",
    "svm = SVC(kernel='linear', C=1.0, random_state=42)\n",
    "svm.fit(X_train, y_train)"
   ]
  },
  {
   "cell_type": "code",
   "execution_count": 15,
   "id": "20f72374",
   "metadata": {
    "execution": {
     "iopub.execute_input": "2022-06-08T02:17:30.942720Z",
     "iopub.status.busy": "2022-06-08T02:17:30.942326Z",
     "iopub.status.idle": "2022-06-08T02:17:30.983278Z",
     "shell.execute_reply": "2022-06-08T02:17:30.982181Z"
    },
    "papermill": {
     "duration": 0.05231,
     "end_time": "2022-06-08T02:17:30.986076",
     "exception": false,
     "start_time": "2022-06-08T02:17:30.933766",
     "status": "completed"
    },
    "tags": []
   },
   "outputs": [],
   "source": [
    "#predicting the target value \n",
    "y_test_svm = svm.predict(X_test)\n",
    "y_train_svm = svm.predict(X_train)"
   ]
  },
  {
   "cell_type": "code",
   "execution_count": 16,
   "id": "5eecc4db",
   "metadata": {
    "execution": {
     "iopub.execute_input": "2022-06-08T02:17:31.003758Z",
     "iopub.status.busy": "2022-06-08T02:17:31.002610Z",
     "iopub.status.idle": "2022-06-08T02:17:31.012151Z",
     "shell.execute_reply": "2022-06-08T02:17:31.011053Z"
    },
    "papermill": {
     "duration": 0.021025,
     "end_time": "2022-06-08T02:17:31.014492",
     "exception": false,
     "start_time": "2022-06-08T02:17:30.993467",
     "status": "completed"
    },
    "tags": []
   },
   "outputs": [
    {
     "name": "stdout",
     "output_type": "stream",
     "text": [
      "SVM: Accuracy on training Data: 0.953\n",
      "SVM : Accuracy on test Data: 0.925\n"
     ]
    }
   ],
   "source": [
    "#Accuracy of the model \n",
    "acc_train_svm = accuracy_score(y_train,y_train_svm)\n",
    "acc_test_svm = accuracy_score(y_test,y_test_svm)\n",
    "\n",
    "print(\"SVM: Accuracy on training Data: {:.3f}\".format(acc_train_svm))\n",
    "print(\"SVM : Accuracy on test Data: {:.3f}\".format(acc_test_svm))"
   ]
  }
 ],
 "metadata": {
  "kernelspec": {
   "display_name": "Python 3",
   "language": "python",
   "name": "python3"
  },
  "language_info": {
   "codemirror_mode": {
    "name": "ipython",
    "version": 3
   },
   "file_extension": ".py",
   "mimetype": "text/x-python",
   "name": "python",
   "nbconvert_exporter": "python",
   "pygments_lexer": "ipython3",
   "version": "3.7.12"
  },
  "papermill": {
   "default_parameters": {},
   "duration": 13.995739,
   "end_time": "2022-06-08T02:17:31.742530",
   "environment_variables": {},
   "exception": null,
   "input_path": "__notebook__.ipynb",
   "output_path": "__notebook__.ipynb",
   "parameters": {},
   "start_time": "2022-06-08T02:17:17.746791",
   "version": "2.3.4"
  }
 },
 "nbformat": 4,
 "nbformat_minor": 5
}
